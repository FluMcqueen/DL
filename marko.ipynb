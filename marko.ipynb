{
 "cells": [
  {
   "cell_type": "markdown",
   "metadata": {},
   "source": [
    "## INFORMAZIONI PER CHI NON È FISSATO CON LA MUSICA COME ME\n",
    "\n",
    "I segnali audio sono digitalizzati tramite una tecnica chiamata PCM che converte i valori \"acustici\" in "
   ]
  }
 ],
 "metadata": {
  "language_info": {
   "name": "python"
  }
 },
 "nbformat": 4,
 "nbformat_minor": 2
}
