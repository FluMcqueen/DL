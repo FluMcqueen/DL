{
 "cells": [
  {
   "cell_type": "markdown",
   "metadata": {},
   "source": [
    "## INFORMAZIONI PER CHI NON È FISSATO CON LA MUSICA COME ME\n",
    "\n",
    "I segnali audio sono digitalizzati tramite una tecnica chiamata PCM che converte i valori \"acustici\" in \n",
    "\n",
    "Sample è una singola misura dell'ampiezza (volume)\n",
    "Sample rate è il numero di misure (sample) per secondo"
   ]
  },
  {
   "cell_type": "markdown",
   "metadata": {},
   "source": [
    "Waveform mostra frequenza nel tempo\n",
    "Spettrogramma mostra frequenza, tempo e volume"
   ]
  },
  {
   "cell_type": "markdown",
   "metadata": {},
   "source": []
  },
  {
   "cell_type": "markdown",
   "metadata": {},
   "source": [
    "### Import libraries"
   ]
  },
  {
   "cell_type": "code",
   "execution_count": null,
   "metadata": {
    "vscode": {
     "languageId": "plaintext"
    }
   },
   "outputs": [],
   "source": [
    "import numpy as np\n",
    "import librosa as lbr\n",
    "import librosa.display\n",
    "import wave\n",
    "import math\n",
    "import matplotlib.pyplot as plt"
   ]
  },
  {
   "cell_type": "markdown",
   "metadata": {},
   "source": [
    "### Check number of frames"
   ]
  },
  {
   "cell_type": "code",
   "execution_count": null,
   "metadata": {
    "vscode": {
     "languageId": "plaintext"
    }
   },
   "outputs": [],
   "source": [
    "l = []\n",
    "\n",
    "def calcframes (track):\n",
    "    obj = track.open(wav, 'rb')\n",
    "    print(\"N_frames\", obj.getnframes())\n",
    "    l.append(obj.getnframes())"
   ]
  },
  {
   "cell_type": "code",
   "execution_count": null,
   "metadata": {
    "vscode": {
     "languageId": "plaintext"
    }
   },
   "outputs": [],
   "source": [
    "folders = [\"blues\", \"classical\", \"country\", \"disco\", \"hiphop\"]"
   ]
  },
  {
   "cell_type": "code",
   "execution_count": null,
   "metadata": {
    "vscode": {
     "languageId": "plaintext"
    }
   },
   "outputs": [],
   "source": []
  }
 ],
 "metadata": {
  "language_info": {
   "name": "python"
  }
 },
 "nbformat": 4,
 "nbformat_minor": 2
}
