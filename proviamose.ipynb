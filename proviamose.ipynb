{
 "cells": [
  {
   "cell_type": "markdown",
   "id": "285cbf26",
   "metadata": {
    "papermill": {
     "duration": 0.010521,
     "end_time": "2024-10-10T15:49:16.751455",
     "exception": false,
     "start_time": "2024-10-10T15:49:16.740934",
     "status": "completed"
    },
    "tags": []
   },
   "source": [
    "## Import libraries"
   ]
  },
  {
   "cell_type": "code",
   "execution_count": 2,
   "id": "ede31813",
   "metadata": {
    "execution": {
     "iopub.execute_input": "2024-10-10T15:49:16.775545Z",
     "iopub.status.busy": "2024-10-10T15:49:16.774933Z",
     "iopub.status.idle": "2024-10-10T15:49:16.818250Z",
     "shell.execute_reply": "2024-10-10T15:49:16.816961Z"
    },
    "papermill": {
     "duration": 0.05934,
     "end_time": "2024-10-10T15:49:16.821701",
     "exception": false,
     "start_time": "2024-10-10T15:49:16.762361",
     "status": "completed"
    },
    "tags": []
   },
   "outputs": [],
   "source": [
    "import numpy as np\n",
    "import librosa as lbr\n",
    "import librosa.display as display\n",
    "import wave\n",
    "import math\n",
    "import matplotlib.pyplot as plt"
   ]
  },
  {
   "cell_type": "markdown",
   "id": "51af3278",
   "metadata": {
    "papermill": {
     "duration": 0.010649,
     "end_time": "2024-10-10T15:49:16.843390",
     "exception": false,
     "start_time": "2024-10-10T15:49:16.832741",
     "status": "completed"
    },
    "tags": []
   },
   "source": [
    "## Loop over folders in order to get sample rate and number of frames"
   ]
  },
  {
   "cell_type": "code",
   "execution_count": 3,
   "id": "5fa5ec5b",
   "metadata": {
    "execution": {
     "iopub.execute_input": "2024-10-10T15:49:16.867697Z",
     "iopub.status.busy": "2024-10-10T15:49:16.867143Z",
     "iopub.status.idle": "2024-10-10T15:49:16.873811Z",
     "shell.execute_reply": "2024-10-10T15:49:16.872367Z"
    },
    "papermill": {
     "duration": 0.021591,
     "end_time": "2024-10-10T15:49:16.876433",
     "exception": false,
     "start_time": "2024-10-10T15:49:16.854842",
     "status": "completed"
    },
    "tags": []
   },
   "outputs": [],
   "source": [
    "folders = [\"blues\", \"classical\", \"country\", \"disco\", \"hiphop\", \"jazz\", \"metal\", \"pop\", \"reggae\", \"rock\"]"
   ]
  },
  {
   "cell_type": "code",
   "execution_count": 4,
   "id": "a5e63c31",
   "metadata": {
    "execution": {
     "iopub.execute_input": "2024-10-10T15:49:16.901121Z",
     "iopub.status.busy": "2024-10-10T15:49:16.899415Z",
     "iopub.status.idle": "2024-10-10T15:49:16.908783Z",
     "shell.execute_reply": "2024-10-10T15:49:16.907201Z"
    },
    "papermill": {
     "duration": 0.024444,
     "end_time": "2024-10-10T15:49:16.912038",
     "exception": false,
     "start_time": "2024-10-10T15:49:16.887594",
     "status": "completed"
    },
    "tags": []
   },
   "outputs": [],
   "source": [
    "lsr = []\n",
    "lnf = []\n",
    "\n",
    "def par(wav):\n",
    "    try:\n",
    "        obj = wave.open(wav, 'rb')\n",
    "        sr = obj.getframerate()\n",
    "        lsr.append(sr)\n",
    "        nframes = obj.getnframes()\n",
    "        lnf.append(nframes)\n",
    "        obj.close()\n",
    "    except wave.Error as e:\n",
    "        print(wav)"
   ]
  },
  {
   "cell_type": "code",
   "execution_count": 5,
   "id": "36e8f114",
   "metadata": {
    "execution": {
     "iopub.execute_input": "2024-10-10T15:49:16.936049Z",
     "iopub.status.busy": "2024-10-10T15:49:16.935541Z",
     "iopub.status.idle": "2024-10-10T15:49:33.561255Z",
     "shell.execute_reply": "2024-10-10T15:49:33.560003Z"
    },
    "papermill": {
     "duration": 16.642067,
     "end_time": "2024-10-10T15:49:33.564922",
     "exception": false,
     "start_time": "2024-10-10T15:49:16.922855",
     "status": "completed"
    },
    "tags": []
   },
   "outputs": [
    {
     "name": "stdout",
     "output_type": "stream",
     "text": [
      "/kaggle/input/gtzan-dataset-music-genre-classification/Data/genres_original/jazz/jazz.00054.wav\n"
     ]
    }
   ],
   "source": [
    "pre = \"/kaggle/input/gtzan-dataset-music-genre-classification/Data/genres_original\"\n",
    "\n",
    "for fol in folders:\n",
    "    for i in range(100):\n",
    "        if i < 10:\n",
    "            path = f\"{fol}/{fol}.0000{i}.wav\"\n",
    "        else:\n",
    "            path = f\"{fol}/{fol}.000{i}.wav\"\n",
    "        #print(path)\n",
    "        par(path)"
   ]
  },
  {
   "cell_type": "code",
   "execution_count": 6,
   "id": "c14abbd7",
   "metadata": {
    "execution": {
     "iopub.execute_input": "2024-10-10T15:49:33.589218Z",
     "iopub.status.busy": "2024-10-10T15:49:33.588709Z",
     "iopub.status.idle": "2024-10-10T15:49:33.596012Z",
     "shell.execute_reply": "2024-10-10T15:49:33.594625Z"
    },
    "papermill": {
     "duration": 0.023706,
     "end_time": "2024-10-10T15:49:33.599326",
     "exception": false,
     "start_time": "2024-10-10T15:49:33.575620",
     "status": "completed"
    },
    "tags": []
   },
   "outputs": [
    {
     "name": "stdout",
     "output_type": "stream",
     "text": [
      "[22050]\n",
      "[22050]\n"
     ]
    }
   ],
   "source": [
    "unique_sr = list(set(lsr))\n",
    "print(unique_sr)\n",
    "\n",
    "unique_nf = list(set(lnf))\n",
    "print(unique_nf)"
   ]
  },
  {
   "cell_type": "markdown",
   "id": "ffac9db4",
   "metadata": {
    "papermill": {
     "duration": 0.010772,
     "end_time": "2024-10-10T15:49:33.620938",
     "exception": false,
     "start_time": "2024-10-10T15:49:33.610166",
     "status": "completed"
    },
    "tags": []
   },
   "source": [
    "### Il sample rate è uguale per tutti i file.\n",
    "### Il numero di frames, invece, non è lo stesso, quindi controllo quale\n",
    "### numero compare maggiormente."
   ]
  },
  {
   "cell_type": "code",
   "execution_count": 7,
   "id": "3e4db8f1",
   "metadata": {
    "execution": {
     "iopub.execute_input": "2024-10-10T15:49:33.644734Z",
     "iopub.status.busy": "2024-10-10T15:49:33.644244Z",
     "iopub.status.idle": "2024-10-10T15:49:33.650896Z",
     "shell.execute_reply": "2024-10-10T15:49:33.649761Z"
    },
    "papermill": {
     "duration": 0.022214,
     "end_time": "2024-10-10T15:49:33.654034",
     "exception": false,
     "start_time": "2024-10-10T15:49:33.631820",
     "status": "completed"
    },
    "tags": []
   },
   "outputs": [
    {
     "name": "stdout",
     "output_type": "stream",
     "text": [
      "Counter({22050: 999})\n"
     ]
    }
   ],
   "source": [
    "from collections import Counter\n",
    "\n",
    "frequency_dict = Counter(lnf)\n",
    "print(frequency_dict)"
   ]
  },
  {
   "cell_type": "markdown",
   "id": "a76fce54",
   "metadata": {
    "papermill": {
     "duration": 0.010657,
     "end_time": "2024-10-10T15:49:33.675809",
     "exception": false,
     "start_time": "2024-10-10T15:49:33.665152",
     "status": "completed"
    },
    "tags": []
   },
   "source": [
    "## Modifico la durata dei file con numero frames diverso da 661794"
   ]
  },
  {
   "cell_type": "code",
   "execution_count": 8,
   "id": "e6ecb08d",
   "metadata": {
    "execution": {
     "iopub.execute_input": "2024-10-10T15:49:33.701204Z",
     "iopub.status.busy": "2024-10-10T15:49:33.700767Z",
     "iopub.status.idle": "2024-10-10T15:49:33.719590Z",
     "shell.execute_reply": "2024-10-10T15:49:33.718475Z"
    },
    "papermill": {
     "duration": 0.035104,
     "end_time": "2024-10-10T15:49:33.722829",
     "exception": false,
     "start_time": "2024-10-10T15:49:33.687725",
     "status": "completed"
    },
    "tags": []
   },
   "outputs": [],
   "source": [
    "from pydub import AudioSegment\n",
    "import os\n",
    "\n",
    "def cambia_numero_di_frame(file_input):\n",
    "    # Imposta il numero di frame desiderato\n",
    "    numero_frame_desiderato = 661794\n",
    "\n",
    "    # Crea la cartella \"Audio modificati\" nella directory corrente se non esiste già\n",
    "    output_directory = 'Audio modificati'\n",
    "    os.makedirs(output_directory, exist_ok=True)\n",
    "    \n",
    "    # Carica il file audio\n",
    "    audio = AudioSegment.from_file(file_input)\n",
    "    \n",
    "    # Ottieni il sample rate dell'audio\n",
    "    sample_rate = audio.frame_rate\n",
    "    \n",
    "    # Calcola il numero di frame attuale\n",
    "    numero_frame_attuale = len(audio.get_array_of_samples())\n",
    "    \n",
    "    # Se il numero di frame è già quello desiderato, non fare nulla\n",
    "    if numero_frame_attuale == numero_frame_desiderato:\n",
    "        print(f\"Il file {file_input} ha già {numero_frame_desiderato} frame.\")\n",
    "        return\n",
    "    \n",
    "    # Calcola il fattore di scalamento per ottenere il numero di frame desiderato\n",
    "    fattore_di_scalamento = numero_frame_attuale / numero_frame_desiderato\n",
    "    \n",
    "    # Modifica la velocità dell'audio in base al fattore di ridimensionamento\n",
    "    audio_modificato = audio._spawn(audio.raw_data, overrides={\n",
    "        \"frame_rate\": int(audio.frame_rate / fattore_di_scalamento)\n",
    "    }).set_frame_rate(sample_rate)  # Imposta di nuovo il frame rate originale\n",
    "    \n",
    "    # Salva il file modificato nella cartella \"Audio modificati\"\n",
    "    output_path = os.path.join(output_directory, os.path.basename(file_input))\n",
    "    audio_modificato.export(output_path, format=\"wav\")\n",
    "    \n",
    "    print(f\"Audio modificato e salvato in {output_path} con {numero_frame_desiderato} frame.\")\n"
   ]
  },
  {
   "cell_type": "code",
   "execution_count": 9,
   "id": "7164122b",
   "metadata": {
    "execution": {
     "iopub.execute_input": "2024-10-10T15:49:33.747541Z",
     "iopub.status.busy": "2024-10-10T15:49:33.747079Z",
     "iopub.status.idle": "2024-10-10T15:49:33.752682Z",
     "shell.execute_reply": "2024-10-10T15:49:33.751539Z"
    },
    "papermill": {
     "duration": 0.021178,
     "end_time": "2024-10-10T15:49:33.755382",
     "exception": false,
     "start_time": "2024-10-10T15:49:33.734204",
     "status": "completed"
    },
    "tags": []
   },
   "outputs": [],
   "source": [
    "# devo lanciare nuovamente quello che recupera nframes e cambiare quelli diversi da 661794"
   ]
  },
  {
   "cell_type": "code",
   "execution_count": null,
   "id": "1d4c0493",
   "metadata": {},
   "outputs": [],
   "source": [
    "for fol in folders:\n",
    "    for i in range(100):\n",
    "        if i < 10:\n",
    "            path = f\"{fol}/{fol}.0000{i}.wav\"\n",
    "        else:\n",
    "            path = f\"{fol}/{fol}.000{i}.wav\"\n",
    "        #print(path)\n",
    "        try:\n",
    "            cambia_numero_di_frame(path)\n",
    "        except :\n",
    "            print(path)"
   ]
  },
  {
   "cell_type": "code",
   "execution_count": 10,
   "id": "bcc58366",
   "metadata": {
    "execution": {
     "iopub.execute_input": "2024-10-10T15:49:33.779911Z",
     "iopub.status.busy": "2024-10-10T15:49:33.779491Z",
     "iopub.status.idle": "2024-10-10T15:49:33.785465Z",
     "shell.execute_reply": "2024-10-10T15:49:33.783996Z"
    },
    "papermill": {
     "duration": 0.02188,
     "end_time": "2024-10-10T15:49:33.788380",
     "exception": false,
     "start_time": "2024-10-10T15:49:33.766500",
     "status": "completed"
    },
    "tags": []
   },
   "outputs": [],
   "source": [
    "hop = 512\n",
    "frame_size = 2048\n",
    "sr = 22050\n",
    "lsp = []"
   ]
  },
  {
   "cell_type": "code",
   "execution_count": 11,
   "id": "40ecad9a",
   "metadata": {
    "execution": {
     "iopub.execute_input": "2024-10-10T15:49:33.815913Z",
     "iopub.status.busy": "2024-10-10T15:49:33.813673Z",
     "iopub.status.idle": "2024-10-10T15:49:33.820566Z",
     "shell.execute_reply": "2024-10-10T15:49:33.819477Z"
    },
    "papermill": {
     "duration": 0.023936,
     "end_time": "2024-10-10T15:49:33.824065",
     "exception": false,
     "start_time": "2024-10-10T15:49:33.800129",
     "status": "completed"
    },
    "tags": []
   },
   "outputs": [],
   "source": [
    "def spec(audio):\n",
    "    return lbr.stft(audio, n_fft=frame_size, hop_length=hop)"
   ]
  },
  {
   "cell_type": "code",
   "execution_count": 12,
   "id": "01647537",
   "metadata": {
    "execution": {
     "iopub.execute_input": "2024-10-10T15:49:33.848682Z",
     "iopub.status.busy": "2024-10-10T15:49:33.848236Z",
     "iopub.status.idle": "2024-10-10T15:49:33.854597Z",
     "shell.execute_reply": "2024-10-10T15:49:33.853473Z"
    },
    "papermill": {
     "duration": 0.021911,
     "end_time": "2024-10-10T15:49:33.857384",
     "exception": false,
     "start_time": "2024-10-10T15:49:33.835473",
     "status": "completed"
    },
    "tags": []
   },
   "outputs": [],
   "source": [
    "def lib(wav):\n",
    "    try:\n",
    "        signal, _ = lbr.load(wav)\n",
    "        sp = spec(signal)\n",
    "        lsp.append(sp)\n",
    "    except :\n",
    "        print(wav)"
   ]
  },
  {
   "cell_type": "code",
   "execution_count": 13,
   "id": "fc4ec421",
   "metadata": {
    "execution": {
     "iopub.execute_input": "2024-10-10T15:49:33.882894Z",
     "iopub.status.busy": "2024-10-10T15:49:33.882435Z",
     "iopub.status.idle": "2024-10-10T15:50:36.637821Z",
     "shell.execute_reply": "2024-10-10T15:50:36.636503Z"
    },
    "papermill": {
     "duration": 62.771976,
     "end_time": "2024-10-10T15:50:36.640720",
     "exception": false,
     "start_time": "2024-10-10T15:49:33.868744",
     "status": "completed"
    },
    "tags": []
   },
   "outputs": [
    {
     "name": "stdout",
     "output_type": "stream",
     "text": [
      "blues\n",
      "classical\n",
      "country\n",
      "disco\n",
      "hiphop\n",
      "jazz\n"
     ]
    },
    {
     "name": "stderr",
     "output_type": "stream",
     "text": [
      "/tmp/ipykernel_17/563114626.py:3: UserWarning: PySoundFile failed. Trying audioread instead.\n",
      "  signal, _ = lbr.load(wav)\n",
      "/opt/conda/lib/python3.10/site-packages/librosa/core/audio.py:184: FutureWarning: librosa.core.audio.__audioread_load\n",
      "\tDeprecated as of librosa version 0.10.0.\n",
      "\tIt will be removed in librosa version 1.0.\n",
      "  y, sr_native = __audioread_load(path, offset, duration, dtype)\n"
     ]
    },
    {
     "name": "stdout",
     "output_type": "stream",
     "text": [
      "/kaggle/input/gtzan-dataset-music-genre-classification/Data/genres_original/jazz/jazz.00054.wav\n",
      "metal\n",
      "pop\n",
      "reggae\n",
      "rock\n"
     ]
    }
   ],
   "source": [
    "\n",
    "for fol in folders:\n",
    "    print(fol)\n",
    "    for i in range(100):\n",
    "        if i < 10:\n",
    "            path = f\"{pre}/{fol}/{fol}.0000{i}.wav\"\n",
    "        else:\n",
    "            path = f\"{pre}/{fol}/{fol}.000{i}.wav\"\n",
    "        lib(path)"
   ]
  }
 ],
 "metadata": {
  "kaggle": {
   "accelerator": "none",
   "dataSources": [
    {
     "datasetId": 568973,
     "sourceId": 1032238,
     "sourceType": "datasetVersion"
    }
   ],
   "dockerImageVersionId": 30786,
   "isGpuEnabled": false,
   "isInternetEnabled": false,
   "language": "python",
   "sourceType": "notebook"
  },
  "kernelspec": {
   "display_name": "Python 3",
   "language": "python",
   "name": "python3"
  },
  "language_info": {
   "codemirror_mode": {
    "name": "ipython",
    "version": 3
   },
   "file_extension": ".py",
   "mimetype": "text/x-python",
   "name": "python",
   "nbconvert_exporter": "python",
   "pygments_lexer": "ipython3",
   "version": "3.12.1"
  },
  "papermill": {
   "default_parameters": {},
   "duration": 87.220473,
   "end_time": "2024-10-10T15:50:38.581408",
   "environment_variables": {},
   "exception": null,
   "input_path": "__notebook__.ipynb",
   "output_path": "__notebook__.ipynb",
   "parameters": {},
   "start_time": "2024-10-10T15:49:11.360935",
   "version": "2.6.0"
  }
 },
 "nbformat": 4,
 "nbformat_minor": 5
}
