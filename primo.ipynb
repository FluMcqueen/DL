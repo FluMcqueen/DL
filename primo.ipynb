{
 "cells": [
  {
   "cell_type": "code",
   "execution_count": 2,
   "metadata": {},
   "outputs": [],
   "source": [
    "import os\n",
    "import librosa\n",
    "import soundfile as sf"
   ]
  },
  {
   "cell_type": "code",
   "execution_count": 1,
   "metadata": {},
   "outputs": [],
   "source": [
    "sr = 22050"
   ]
  },
  {
   "cell_type": "code",
   "execution_count": 3,
   "metadata": {},
   "outputs": [],
   "source": [
    "def split_audio_file_in_three_equal_parts(in_audio, out_folder, current_number):\n",
    "    # Carica il file audio\n",
    "    y, _ = librosa.load(in_audio)\n",
    "    \n",
    "    total_samples = len(y) \n",
    "    segment_samples = total_samples // 3  # Divisione del totale in tre segmenti\n",
    "    \n",
    "    # Crea la cartella di output se non esiste\n",
    "    os.makedirs(output_folder, exist_ok=True)\n",
    "    \n",
    "    for i in range(3):  \n",
    "        start_sample = i * segment_samples\n",
    "        end_sample = (i + 1) * segment_samples if i < 2 else total_samples\n",
    "        \n",
    "        audio_segment = y[start_sample:end_sample]\n",
    "        \n",
    "        # Crea il nuovo nome del file con la numerazione progressiva\n",
    "        output_file_name = f\"audio_{current_number}.wav\"\n",
    "        output_path = os.path.join(output_folder, output_file_name)\n",
    "        \n",
    "        # Salva il file splittato\n",
    "        sf.write(output_path, audio_segment, sr)\n",
    "\n",
    "        print(f\"Saved: {output_path}\")\n",
    "        \n",
    "        # Incrementa il numero per il prossimo file\n",
    "        current_number += 1\n",
    "    \n",
    "    return current_number\n",
    "# Esempio di utilizzo\n",
    "input_folder = 'dataset/audio_originali/'\n",
    "output_folder = 'dataset/audio_splittati/'\n",
    "\n",
    "# Inizializza il numero progressivo\n",
    "current_number = 0\n",
    "\n",
    "# Splitta tutti i file audio presenti nella cartella input_folder\n",
    "for audio_file in sorted(os.listdir(input_folder)):\n",
    "    input_audio_path = os.path.join(input_folder, audio_file)\n",
    "    current_number = split_audio_file_in_three_equal_parts(input_audio_path, output_folder, current_number)\n"
   ]
  },
  {
   "cell_type": "code",
   "execution_count": 4,
   "metadata": {},
   "outputs": [],
   "source": [
    "folders = [\"blues\", \"classical\", \"country\", \"disco\", \"hiphop\", \"jazz\", \"metal\", \"pop\", \"reggae\", \"rock\"]"
   ]
  },
  {
   "cell_type": "code",
   "execution_count": 5,
   "metadata": {},
   "outputs": [
    {
     "name": "stdout",
     "output_type": "stream",
     "text": [
      "File Originali/classical/classical.00049.wav è troppo corto per essere diviso in 3 parti di 10 secondi.\n",
      "File Originali/classical/classical.00051.wav è troppo corto per essere diviso in 3 parti di 10 secondi.\n",
      "File Originali/country/country.00003.wav è troppo corto per essere diviso in 3 parti di 10 secondi.\n",
      "File Originali/country/country.00004.wav è troppo corto per essere diviso in 3 parti di 10 secondi.\n",
      "File Originali/country/country.00007.wav è troppo corto per essere diviso in 3 parti di 10 secondi.\n",
      "File Originali/disco/disco.00014.wav è troppo corto per essere diviso in 3 parti di 10 secondi.\n",
      "File Originali/hiphop/hiphop.00031.wav è troppo corto per essere diviso in 3 parti di 10 secondi.\n",
      "File Originali/hiphop/hiphop.00032.wav è troppo corto per essere diviso in 3 parti di 10 secondi.\n"
     ]
    },
    {
     "name": "stderr",
     "output_type": "stream",
     "text": [
      "/tmp/ipykernel_6873/453677877.py:3: UserWarning: PySoundFile failed. Trying audioread instead.\n",
      "  y, _ = librosa.load(audio_file, sr=None)\n",
      "/usr/local/python/3.12.1/lib/python3.12/site-packages/librosa/core/audio.py:184: FutureWarning: librosa.core.audio.__audioread_load\n",
      "\tDeprecated as of librosa version 0.10.0.\n",
      "\tIt will be removed in librosa version 1.0.\n",
      "  y, sr_native = __audioread_load(path, offset, duration, dtype)\n"
     ]
    },
    {
     "name": "stdout",
     "output_type": "stream",
     "text": [
      "Originali/jazz/jazz.00054.wav\n",
      "File Originali/rock/rock.00038.wav è troppo corto per essere diviso in 3 parti di 10 secondi.\n"
     ]
    }
   ],
   "source": [
    "for fol in folders:\n",
    "    for i in range(100):\n",
    "        if i < 10:\n",
    "            path = f\"Originali/{fol}/{fol}.0000{i}.wav\"\n",
    "        else:\n",
    "            path = f\"Originali/{fol}/{fol}.000{i}.wav\"\n",
    "        \n",
    "        try:\n",
    "            split_audio_file(path, \"no\")\n",
    "        except:\n",
    "            print(path)"
   ]
  }
 ],
 "metadata": {
  "kernelspec": {
   "display_name": "Python 3",
   "language": "python",
   "name": "python3"
  },
  "language_info": {
   "codemirror_mode": {
    "name": "ipython",
    "version": 3
   },
   "file_extension": ".py",
   "mimetype": "text/x-python",
   "name": "python",
   "nbconvert_exporter": "python",
   "pygments_lexer": "ipython3",
   "version": "3.12.1"
  }
 },
 "nbformat": 4,
 "nbformat_minor": 2
}
