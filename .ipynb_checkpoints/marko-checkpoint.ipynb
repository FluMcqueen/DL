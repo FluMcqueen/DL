{
 "cells": [
  {
   "cell_type": "markdown",
   "metadata": {},
   "source": [
    "## INFORMAZIONI PER CHI NON È FISSATO CON LA MUSICA COME ME\n",
    "\n",
    "I segnali audio sono digitalizzati tramite una tecnica chiamata PCM che converte i valori \"acustici\" in \n",
    "\n",
    "Sample è una singola misura dell'ampiezza (volume)\n",
    "Sample rate è il numero di misure (sample) per secondo"
   ]
  },
  {
   "cell_type": "markdown",
   "metadata": {},
   "source": [
    "Waveform mostra frequenza nel tempo\n",
    "Spettrogramma mostra frequenza, tempo e volume"
   ]
  },
  {
   "cell_type": "markdown",
   "metadata": {},
   "source": []
  }
 ],
 "metadata": {
  "language_info": {
   "name": "python"
  }
 },
 "nbformat": 4,
 "nbformat_minor": 2
}
